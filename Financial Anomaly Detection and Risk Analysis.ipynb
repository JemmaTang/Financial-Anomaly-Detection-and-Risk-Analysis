{
 "cells": [
  {
   "cell_type": "code",
   "execution_count": 1,
   "metadata": {},
   "outputs": [],
   "source": [
    "# Project: Financial Anomaly Detection and Risk Analysis\n",
    "# Name: Jemma Tang\n",
    "# Date: 09/24/2020\n",
    "# Dataset resource: https://www.kaggle.com/mlg-ulb/creditcardfraud"
   ]
  },
  {
   "cell_type": "code",
   "execution_count": 2,
   "metadata": {},
   "outputs": [],
   "source": [
    "import matplotlib.pyplot as plt\n",
    "import seaborn as sns, numpy as np\n",
    "\n",
    "from numpy import genfromtxt\n",
    "from scipy.stats import multivariate_normal\n",
    "from sklearn.metrics import f1_score\n",
    "import io\n",
    "import pandas as pd\n",
    "from sklearn.model_selection import train_test_split\n",
    "from sklearn.metrics import f1_score, roc_auc_score, roc_curve, precision_recall_curve, auc, make_scorer, recall_score, accuracy_score, precision_score, confusion_matrix"
   ]
  },
  {
   "cell_type": "code",
   "execution_count": 5,
   "metadata": {},
   "outputs": [
    {
     "data": {
      "text/html": [
       "<div>\n",
       "<style scoped>\n",
       "    .dataframe tbody tr th:only-of-type {\n",
       "        vertical-align: middle;\n",
       "    }\n",
       "\n",
       "    .dataframe tbody tr th {\n",
       "        vertical-align: top;\n",
       "    }\n",
       "\n",
       "    .dataframe thead th {\n",
       "        text-align: right;\n",
       "    }\n",
       "</style>\n",
       "<table border=\"1\" class=\"dataframe\">\n",
       "  <thead>\n",
       "    <tr style=\"text-align: right;\">\n",
       "      <th></th>\n",
       "      <th>Time</th>\n",
       "      <th>V1</th>\n",
       "      <th>V2</th>\n",
       "      <th>V3</th>\n",
       "      <th>V4</th>\n",
       "      <th>V5</th>\n",
       "      <th>V6</th>\n",
       "      <th>V7</th>\n",
       "      <th>V8</th>\n",
       "      <th>V9</th>\n",
       "      <th>...</th>\n",
       "      <th>V21</th>\n",
       "      <th>V22</th>\n",
       "      <th>V23</th>\n",
       "      <th>V24</th>\n",
       "      <th>V25</th>\n",
       "      <th>V26</th>\n",
       "      <th>V27</th>\n",
       "      <th>V28</th>\n",
       "      <th>Amount</th>\n",
       "      <th>Class</th>\n",
       "    </tr>\n",
       "  </thead>\n",
       "  <tbody>\n",
       "    <tr>\n",
       "      <th>0</th>\n",
       "      <td>0.0</td>\n",
       "      <td>-1.359807</td>\n",
       "      <td>-0.072781</td>\n",
       "      <td>2.536347</td>\n",
       "      <td>1.378155</td>\n",
       "      <td>-0.338321</td>\n",
       "      <td>0.462388</td>\n",
       "      <td>0.239599</td>\n",
       "      <td>0.098698</td>\n",
       "      <td>0.363787</td>\n",
       "      <td>...</td>\n",
       "      <td>-0.018307</td>\n",
       "      <td>0.277838</td>\n",
       "      <td>-0.110474</td>\n",
       "      <td>0.066928</td>\n",
       "      <td>0.128539</td>\n",
       "      <td>-0.189115</td>\n",
       "      <td>0.133558</td>\n",
       "      <td>-0.021053</td>\n",
       "      <td>149.62</td>\n",
       "      <td>0</td>\n",
       "    </tr>\n",
       "    <tr>\n",
       "      <th>1</th>\n",
       "      <td>0.0</td>\n",
       "      <td>1.191857</td>\n",
       "      <td>0.266151</td>\n",
       "      <td>0.166480</td>\n",
       "      <td>0.448154</td>\n",
       "      <td>0.060018</td>\n",
       "      <td>-0.082361</td>\n",
       "      <td>-0.078803</td>\n",
       "      <td>0.085102</td>\n",
       "      <td>-0.255425</td>\n",
       "      <td>...</td>\n",
       "      <td>-0.225775</td>\n",
       "      <td>-0.638672</td>\n",
       "      <td>0.101288</td>\n",
       "      <td>-0.339846</td>\n",
       "      <td>0.167170</td>\n",
       "      <td>0.125895</td>\n",
       "      <td>-0.008983</td>\n",
       "      <td>0.014724</td>\n",
       "      <td>2.69</td>\n",
       "      <td>0</td>\n",
       "    </tr>\n",
       "    <tr>\n",
       "      <th>2</th>\n",
       "      <td>1.0</td>\n",
       "      <td>-1.358354</td>\n",
       "      <td>-1.340163</td>\n",
       "      <td>1.773209</td>\n",
       "      <td>0.379780</td>\n",
       "      <td>-0.503198</td>\n",
       "      <td>1.800499</td>\n",
       "      <td>0.791461</td>\n",
       "      <td>0.247676</td>\n",
       "      <td>-1.514654</td>\n",
       "      <td>...</td>\n",
       "      <td>0.247998</td>\n",
       "      <td>0.771679</td>\n",
       "      <td>0.909412</td>\n",
       "      <td>-0.689281</td>\n",
       "      <td>-0.327642</td>\n",
       "      <td>-0.139097</td>\n",
       "      <td>-0.055353</td>\n",
       "      <td>-0.059752</td>\n",
       "      <td>378.66</td>\n",
       "      <td>0</td>\n",
       "    </tr>\n",
       "    <tr>\n",
       "      <th>3</th>\n",
       "      <td>1.0</td>\n",
       "      <td>-0.966272</td>\n",
       "      <td>-0.185226</td>\n",
       "      <td>1.792993</td>\n",
       "      <td>-0.863291</td>\n",
       "      <td>-0.010309</td>\n",
       "      <td>1.247203</td>\n",
       "      <td>0.237609</td>\n",
       "      <td>0.377436</td>\n",
       "      <td>-1.387024</td>\n",
       "      <td>...</td>\n",
       "      <td>-0.108300</td>\n",
       "      <td>0.005274</td>\n",
       "      <td>-0.190321</td>\n",
       "      <td>-1.175575</td>\n",
       "      <td>0.647376</td>\n",
       "      <td>-0.221929</td>\n",
       "      <td>0.062723</td>\n",
       "      <td>0.061458</td>\n",
       "      <td>123.50</td>\n",
       "      <td>0</td>\n",
       "    </tr>\n",
       "    <tr>\n",
       "      <th>4</th>\n",
       "      <td>2.0</td>\n",
       "      <td>-1.158233</td>\n",
       "      <td>0.877737</td>\n",
       "      <td>1.548718</td>\n",
       "      <td>0.403034</td>\n",
       "      <td>-0.407193</td>\n",
       "      <td>0.095921</td>\n",
       "      <td>0.592941</td>\n",
       "      <td>-0.270533</td>\n",
       "      <td>0.817739</td>\n",
       "      <td>...</td>\n",
       "      <td>-0.009431</td>\n",
       "      <td>0.798278</td>\n",
       "      <td>-0.137458</td>\n",
       "      <td>0.141267</td>\n",
       "      <td>-0.206010</td>\n",
       "      <td>0.502292</td>\n",
       "      <td>0.219422</td>\n",
       "      <td>0.215153</td>\n",
       "      <td>69.99</td>\n",
       "      <td>0</td>\n",
       "    </tr>\n",
       "  </tbody>\n",
       "</table>\n",
       "<p>5 rows × 31 columns</p>\n",
       "</div>"
      ],
      "text/plain": [
       "   Time        V1        V2        V3        V4        V5        V6        V7  \\\n",
       "0   0.0 -1.359807 -0.072781  2.536347  1.378155 -0.338321  0.462388  0.239599   \n",
       "1   0.0  1.191857  0.266151  0.166480  0.448154  0.060018 -0.082361 -0.078803   \n",
       "2   1.0 -1.358354 -1.340163  1.773209  0.379780 -0.503198  1.800499  0.791461   \n",
       "3   1.0 -0.966272 -0.185226  1.792993 -0.863291 -0.010309  1.247203  0.237609   \n",
       "4   2.0 -1.158233  0.877737  1.548718  0.403034 -0.407193  0.095921  0.592941   \n",
       "\n",
       "         V8        V9  ...       V21       V22       V23       V24       V25  \\\n",
       "0  0.098698  0.363787  ... -0.018307  0.277838 -0.110474  0.066928  0.128539   \n",
       "1  0.085102 -0.255425  ... -0.225775 -0.638672  0.101288 -0.339846  0.167170   \n",
       "2  0.247676 -1.514654  ...  0.247998  0.771679  0.909412 -0.689281 -0.327642   \n",
       "3  0.377436 -1.387024  ... -0.108300  0.005274 -0.190321 -1.175575  0.647376   \n",
       "4 -0.270533  0.817739  ... -0.009431  0.798278 -0.137458  0.141267 -0.206010   \n",
       "\n",
       "        V26       V27       V28  Amount  Class  \n",
       "0 -0.189115  0.133558 -0.021053  149.62      0  \n",
       "1  0.125895 -0.008983  0.014724    2.69      0  \n",
       "2 -0.139097 -0.055353 -0.059752  378.66      0  \n",
       "3 -0.221929  0.062723  0.061458  123.50      0  \n",
       "4  0.502292  0.219422  0.215153   69.99      0  \n",
       "\n",
       "[5 rows x 31 columns]"
      ]
     },
     "execution_count": 5,
     "metadata": {},
     "output_type": "execute_result"
    }
   ],
   "source": [
    "creditcardDF = pd.read_csv(\"creditcard.csv\")\n",
    "creditcardDF.head()"
   ]
  },
  {
   "cell_type": "code",
   "execution_count": 15,
   "metadata": {},
   "outputs": [],
   "source": [
    "# Part1: understanding my data and get basic senses"
   ]
  },
  {
   "cell_type": "code",
   "execution_count": null,
   "metadata": {},
   "outputs": [],
   "source": [
    "# Except for 1st column 'Time' and 30th column 'Amount', I don't know anything else because the privacy reasons.\n",
    "# V1 to V28 are encrypted data \n",
    "# Although we don't know what the \"V\" features stand for, it will be useful to understand how each of this features influence the result (Fraud or No Fraud) \n",
    "# 'Class' is my label data. 0 = normal transaction, 1 = anomaly transaction."
   ]
  },
  {
   "cell_type": "code",
   "execution_count": 7,
   "metadata": {},
   "outputs": [
    {
     "name": "stdout",
     "output_type": "stream",
     "text": [
      "<class 'pandas.core.frame.DataFrame'>\n",
      "RangeIndex: 284807 entries, 0 to 284806\n",
      "Data columns (total 31 columns):\n",
      " #   Column  Non-Null Count   Dtype  \n",
      "---  ------  --------------   -----  \n",
      " 0   Time    284807 non-null  float64\n",
      " 1   V1      284807 non-null  float64\n",
      " 2   V2      284807 non-null  float64\n",
      " 3   V3      284807 non-null  float64\n",
      " 4   V4      284807 non-null  float64\n",
      " 5   V5      284807 non-null  float64\n",
      " 6   V6      284807 non-null  float64\n",
      " 7   V7      284807 non-null  float64\n",
      " 8   V8      284807 non-null  float64\n",
      " 9   V9      284807 non-null  float64\n",
      " 10  V10     284807 non-null  float64\n",
      " 11  V11     284807 non-null  float64\n",
      " 12  V12     284807 non-null  float64\n",
      " 13  V13     284807 non-null  float64\n",
      " 14  V14     284807 non-null  float64\n",
      " 15  V15     284807 non-null  float64\n",
      " 16  V16     284807 non-null  float64\n",
      " 17  V17     284807 non-null  float64\n",
      " 18  V18     284807 non-null  float64\n",
      " 19  V19     284807 non-null  float64\n",
      " 20  V20     284807 non-null  float64\n",
      " 21  V21     284807 non-null  float64\n",
      " 22  V22     284807 non-null  float64\n",
      " 23  V23     284807 non-null  float64\n",
      " 24  V24     284807 non-null  float64\n",
      " 25  V25     284807 non-null  float64\n",
      " 26  V26     284807 non-null  float64\n",
      " 27  V27     284807 non-null  float64\n",
      " 28  V28     284807 non-null  float64\n",
      " 29  Amount  284807 non-null  float64\n",
      " 30  Class   284807 non-null  int64  \n",
      "dtypes: float64(30), int64(1)\n",
      "memory usage: 67.4 MB\n"
     ]
    }
   ],
   "source": [
    "creditcardDF.info()"
   ]
  },
  {
   "cell_type": "code",
   "execution_count": null,
   "metadata": {},
   "outputs": [],
   "source": [
    "# There are no null values so I don't need to deal with missing values."
   ]
  },
  {
   "cell_type": "code",
   "execution_count": 8,
   "metadata": {},
   "outputs": [
    {
     "data": {
      "text/plain": [
       "0    284315\n",
       "1       492\n",
       "Name: Class, dtype: int64"
      ]
     },
     "execution_count": 8,
     "metadata": {},
     "output_type": "execute_result"
    }
   ],
   "source": [
    "creditcardDF['Class'].value_counts()"
   ]
  },
  {
   "cell_type": "code",
   "execution_count": 14,
   "metadata": {},
   "outputs": [
    {
     "data": {
      "text/plain": [
       "0.001727485630620034"
      ]
     },
     "execution_count": 14,
     "metadata": {},
     "output_type": "execute_result"
    }
   ],
   "source": [
    "sum( creditcardDF['Class'] == 1 )/ creditcardDF['Class'].count()"
   ]
  },
  {
   "cell_type": "code",
   "execution_count": null,
   "metadata": {},
   "outputs": [],
   "source": [
    "# Fraud rate is very low 0.17%, original dataset is very imbalanced\n",
    "# If we use this dataframe as the base for our predictive models and analysis we might get a lot of errors \n",
    "# and our algorithms will probably overfit since it will \"assume\" that most transactions are not fraud.\n"
   ]
  },
  {
   "cell_type": "code",
   "execution_count": 16,
   "metadata": {},
   "outputs": [
    {
     "data": {
      "text/html": [
       "<div>\n",
       "<style scoped>\n",
       "    .dataframe tbody tr th:only-of-type {\n",
       "        vertical-align: middle;\n",
       "    }\n",
       "\n",
       "    .dataframe tbody tr th {\n",
       "        vertical-align: top;\n",
       "    }\n",
       "\n",
       "    .dataframe thead th {\n",
       "        text-align: right;\n",
       "    }\n",
       "</style>\n",
       "<table border=\"1\" class=\"dataframe\">\n",
       "  <thead>\n",
       "    <tr style=\"text-align: right;\">\n",
       "      <th></th>\n",
       "      <th>Time</th>\n",
       "      <th>V1</th>\n",
       "      <th>V2</th>\n",
       "      <th>V3</th>\n",
       "      <th>V4</th>\n",
       "      <th>V5</th>\n",
       "      <th>V6</th>\n",
       "      <th>V7</th>\n",
       "      <th>V8</th>\n",
       "      <th>V9</th>\n",
       "      <th>...</th>\n",
       "      <th>V21</th>\n",
       "      <th>V22</th>\n",
       "      <th>V23</th>\n",
       "      <th>V24</th>\n",
       "      <th>V25</th>\n",
       "      <th>V26</th>\n",
       "      <th>V27</th>\n",
       "      <th>V28</th>\n",
       "      <th>Amount</th>\n",
       "      <th>Class</th>\n",
       "    </tr>\n",
       "  </thead>\n",
       "  <tbody>\n",
       "    <tr>\n",
       "      <th>count</th>\n",
       "      <td>284807.000000</td>\n",
       "      <td>2.848070e+05</td>\n",
       "      <td>2.848070e+05</td>\n",
       "      <td>2.848070e+05</td>\n",
       "      <td>2.848070e+05</td>\n",
       "      <td>2.848070e+05</td>\n",
       "      <td>2.848070e+05</td>\n",
       "      <td>2.848070e+05</td>\n",
       "      <td>2.848070e+05</td>\n",
       "      <td>2.848070e+05</td>\n",
       "      <td>...</td>\n",
       "      <td>2.848070e+05</td>\n",
       "      <td>2.848070e+05</td>\n",
       "      <td>2.848070e+05</td>\n",
       "      <td>2.848070e+05</td>\n",
       "      <td>2.848070e+05</td>\n",
       "      <td>2.848070e+05</td>\n",
       "      <td>2.848070e+05</td>\n",
       "      <td>2.848070e+05</td>\n",
       "      <td>284807.000000</td>\n",
       "      <td>284807.000000</td>\n",
       "    </tr>\n",
       "    <tr>\n",
       "      <th>mean</th>\n",
       "      <td>94813.859575</td>\n",
       "      <td>1.165980e-15</td>\n",
       "      <td>3.416908e-16</td>\n",
       "      <td>-1.373150e-15</td>\n",
       "      <td>2.086869e-15</td>\n",
       "      <td>9.604066e-16</td>\n",
       "      <td>1.490107e-15</td>\n",
       "      <td>-5.556467e-16</td>\n",
       "      <td>1.177556e-16</td>\n",
       "      <td>-2.406455e-15</td>\n",
       "      <td>...</td>\n",
       "      <td>1.656562e-16</td>\n",
       "      <td>-3.444850e-16</td>\n",
       "      <td>2.578648e-16</td>\n",
       "      <td>4.471968e-15</td>\n",
       "      <td>5.340915e-16</td>\n",
       "      <td>1.687098e-15</td>\n",
       "      <td>-3.666453e-16</td>\n",
       "      <td>-1.220404e-16</td>\n",
       "      <td>88.349619</td>\n",
       "      <td>0.001727</td>\n",
       "    </tr>\n",
       "    <tr>\n",
       "      <th>std</th>\n",
       "      <td>47488.145955</td>\n",
       "      <td>1.958696e+00</td>\n",
       "      <td>1.651309e+00</td>\n",
       "      <td>1.516255e+00</td>\n",
       "      <td>1.415869e+00</td>\n",
       "      <td>1.380247e+00</td>\n",
       "      <td>1.332271e+00</td>\n",
       "      <td>1.237094e+00</td>\n",
       "      <td>1.194353e+00</td>\n",
       "      <td>1.098632e+00</td>\n",
       "      <td>...</td>\n",
       "      <td>7.345240e-01</td>\n",
       "      <td>7.257016e-01</td>\n",
       "      <td>6.244603e-01</td>\n",
       "      <td>6.056471e-01</td>\n",
       "      <td>5.212781e-01</td>\n",
       "      <td>4.822270e-01</td>\n",
       "      <td>4.036325e-01</td>\n",
       "      <td>3.300833e-01</td>\n",
       "      <td>250.120109</td>\n",
       "      <td>0.041527</td>\n",
       "    </tr>\n",
       "    <tr>\n",
       "      <th>min</th>\n",
       "      <td>0.000000</td>\n",
       "      <td>-5.640751e+01</td>\n",
       "      <td>-7.271573e+01</td>\n",
       "      <td>-4.832559e+01</td>\n",
       "      <td>-5.683171e+00</td>\n",
       "      <td>-1.137433e+02</td>\n",
       "      <td>-2.616051e+01</td>\n",
       "      <td>-4.355724e+01</td>\n",
       "      <td>-7.321672e+01</td>\n",
       "      <td>-1.343407e+01</td>\n",
       "      <td>...</td>\n",
       "      <td>-3.483038e+01</td>\n",
       "      <td>-1.093314e+01</td>\n",
       "      <td>-4.480774e+01</td>\n",
       "      <td>-2.836627e+00</td>\n",
       "      <td>-1.029540e+01</td>\n",
       "      <td>-2.604551e+00</td>\n",
       "      <td>-2.256568e+01</td>\n",
       "      <td>-1.543008e+01</td>\n",
       "      <td>0.000000</td>\n",
       "      <td>0.000000</td>\n",
       "    </tr>\n",
       "    <tr>\n",
       "      <th>25%</th>\n",
       "      <td>54201.500000</td>\n",
       "      <td>-9.203734e-01</td>\n",
       "      <td>-5.985499e-01</td>\n",
       "      <td>-8.903648e-01</td>\n",
       "      <td>-8.486401e-01</td>\n",
       "      <td>-6.915971e-01</td>\n",
       "      <td>-7.682956e-01</td>\n",
       "      <td>-5.540759e-01</td>\n",
       "      <td>-2.086297e-01</td>\n",
       "      <td>-6.430976e-01</td>\n",
       "      <td>...</td>\n",
       "      <td>-2.283949e-01</td>\n",
       "      <td>-5.423504e-01</td>\n",
       "      <td>-1.618463e-01</td>\n",
       "      <td>-3.545861e-01</td>\n",
       "      <td>-3.171451e-01</td>\n",
       "      <td>-3.269839e-01</td>\n",
       "      <td>-7.083953e-02</td>\n",
       "      <td>-5.295979e-02</td>\n",
       "      <td>5.600000</td>\n",
       "      <td>0.000000</td>\n",
       "    </tr>\n",
       "    <tr>\n",
       "      <th>50%</th>\n",
       "      <td>84692.000000</td>\n",
       "      <td>1.810880e-02</td>\n",
       "      <td>6.548556e-02</td>\n",
       "      <td>1.798463e-01</td>\n",
       "      <td>-1.984653e-02</td>\n",
       "      <td>-5.433583e-02</td>\n",
       "      <td>-2.741871e-01</td>\n",
       "      <td>4.010308e-02</td>\n",
       "      <td>2.235804e-02</td>\n",
       "      <td>-5.142873e-02</td>\n",
       "      <td>...</td>\n",
       "      <td>-2.945017e-02</td>\n",
       "      <td>6.781943e-03</td>\n",
       "      <td>-1.119293e-02</td>\n",
       "      <td>4.097606e-02</td>\n",
       "      <td>1.659350e-02</td>\n",
       "      <td>-5.213911e-02</td>\n",
       "      <td>1.342146e-03</td>\n",
       "      <td>1.124383e-02</td>\n",
       "      <td>22.000000</td>\n",
       "      <td>0.000000</td>\n",
       "    </tr>\n",
       "    <tr>\n",
       "      <th>75%</th>\n",
       "      <td>139320.500000</td>\n",
       "      <td>1.315642e+00</td>\n",
       "      <td>8.037239e-01</td>\n",
       "      <td>1.027196e+00</td>\n",
       "      <td>7.433413e-01</td>\n",
       "      <td>6.119264e-01</td>\n",
       "      <td>3.985649e-01</td>\n",
       "      <td>5.704361e-01</td>\n",
       "      <td>3.273459e-01</td>\n",
       "      <td>5.971390e-01</td>\n",
       "      <td>...</td>\n",
       "      <td>1.863772e-01</td>\n",
       "      <td>5.285536e-01</td>\n",
       "      <td>1.476421e-01</td>\n",
       "      <td>4.395266e-01</td>\n",
       "      <td>3.507156e-01</td>\n",
       "      <td>2.409522e-01</td>\n",
       "      <td>9.104512e-02</td>\n",
       "      <td>7.827995e-02</td>\n",
       "      <td>77.165000</td>\n",
       "      <td>0.000000</td>\n",
       "    </tr>\n",
       "    <tr>\n",
       "      <th>max</th>\n",
       "      <td>172792.000000</td>\n",
       "      <td>2.454930e+00</td>\n",
       "      <td>2.205773e+01</td>\n",
       "      <td>9.382558e+00</td>\n",
       "      <td>1.687534e+01</td>\n",
       "      <td>3.480167e+01</td>\n",
       "      <td>7.330163e+01</td>\n",
       "      <td>1.205895e+02</td>\n",
       "      <td>2.000721e+01</td>\n",
       "      <td>1.559499e+01</td>\n",
       "      <td>...</td>\n",
       "      <td>2.720284e+01</td>\n",
       "      <td>1.050309e+01</td>\n",
       "      <td>2.252841e+01</td>\n",
       "      <td>4.584549e+00</td>\n",
       "      <td>7.519589e+00</td>\n",
       "      <td>3.517346e+00</td>\n",
       "      <td>3.161220e+01</td>\n",
       "      <td>3.384781e+01</td>\n",
       "      <td>25691.160000</td>\n",
       "      <td>1.000000</td>\n",
       "    </tr>\n",
       "  </tbody>\n",
       "</table>\n",
       "<p>8 rows × 31 columns</p>\n",
       "</div>"
      ],
      "text/plain": [
       "                Time            V1            V2            V3            V4  \\\n",
       "count  284807.000000  2.848070e+05  2.848070e+05  2.848070e+05  2.848070e+05   \n",
       "mean    94813.859575  1.165980e-15  3.416908e-16 -1.373150e-15  2.086869e-15   \n",
       "std     47488.145955  1.958696e+00  1.651309e+00  1.516255e+00  1.415869e+00   \n",
       "min         0.000000 -5.640751e+01 -7.271573e+01 -4.832559e+01 -5.683171e+00   \n",
       "25%     54201.500000 -9.203734e-01 -5.985499e-01 -8.903648e-01 -8.486401e-01   \n",
       "50%     84692.000000  1.810880e-02  6.548556e-02  1.798463e-01 -1.984653e-02   \n",
       "75%    139320.500000  1.315642e+00  8.037239e-01  1.027196e+00  7.433413e-01   \n",
       "max    172792.000000  2.454930e+00  2.205773e+01  9.382558e+00  1.687534e+01   \n",
       "\n",
       "                 V5            V6            V7            V8            V9  \\\n",
       "count  2.848070e+05  2.848070e+05  2.848070e+05  2.848070e+05  2.848070e+05   \n",
       "mean   9.604066e-16  1.490107e-15 -5.556467e-16  1.177556e-16 -2.406455e-15   \n",
       "std    1.380247e+00  1.332271e+00  1.237094e+00  1.194353e+00  1.098632e+00   \n",
       "min   -1.137433e+02 -2.616051e+01 -4.355724e+01 -7.321672e+01 -1.343407e+01   \n",
       "25%   -6.915971e-01 -7.682956e-01 -5.540759e-01 -2.086297e-01 -6.430976e-01   \n",
       "50%   -5.433583e-02 -2.741871e-01  4.010308e-02  2.235804e-02 -5.142873e-02   \n",
       "75%    6.119264e-01  3.985649e-01  5.704361e-01  3.273459e-01  5.971390e-01   \n",
       "max    3.480167e+01  7.330163e+01  1.205895e+02  2.000721e+01  1.559499e+01   \n",
       "\n",
       "       ...           V21           V22           V23           V24  \\\n",
       "count  ...  2.848070e+05  2.848070e+05  2.848070e+05  2.848070e+05   \n",
       "mean   ...  1.656562e-16 -3.444850e-16  2.578648e-16  4.471968e-15   \n",
       "std    ...  7.345240e-01  7.257016e-01  6.244603e-01  6.056471e-01   \n",
       "min    ... -3.483038e+01 -1.093314e+01 -4.480774e+01 -2.836627e+00   \n",
       "25%    ... -2.283949e-01 -5.423504e-01 -1.618463e-01 -3.545861e-01   \n",
       "50%    ... -2.945017e-02  6.781943e-03 -1.119293e-02  4.097606e-02   \n",
       "75%    ...  1.863772e-01  5.285536e-01  1.476421e-01  4.395266e-01   \n",
       "max    ...  2.720284e+01  1.050309e+01  2.252841e+01  4.584549e+00   \n",
       "\n",
       "                V25           V26           V27           V28         Amount  \\\n",
       "count  2.848070e+05  2.848070e+05  2.848070e+05  2.848070e+05  284807.000000   \n",
       "mean   5.340915e-16  1.687098e-15 -3.666453e-16 -1.220404e-16      88.349619   \n",
       "std    5.212781e-01  4.822270e-01  4.036325e-01  3.300833e-01     250.120109   \n",
       "min   -1.029540e+01 -2.604551e+00 -2.256568e+01 -1.543008e+01       0.000000   \n",
       "25%   -3.171451e-01 -3.269839e-01 -7.083953e-02 -5.295979e-02       5.600000   \n",
       "50%    1.659350e-02 -5.213911e-02  1.342146e-03  1.124383e-02      22.000000   \n",
       "75%    3.507156e-01  2.409522e-01  9.104512e-02  7.827995e-02      77.165000   \n",
       "max    7.519589e+00  3.517346e+00  3.161220e+01  3.384781e+01   25691.160000   \n",
       "\n",
       "               Class  \n",
       "count  284807.000000  \n",
       "mean        0.001727  \n",
       "std         0.041527  \n",
       "min         0.000000  \n",
       "25%         0.000000  \n",
       "50%         0.000000  \n",
       "75%         0.000000  \n",
       "max         1.000000  \n",
       "\n",
       "[8 rows x 31 columns]"
      ]
     },
     "execution_count": 16,
     "metadata": {},
     "output_type": "execute_result"
    }
   ],
   "source": [
    "creditcardDF.describe()"
   ]
  },
  {
   "cell_type": "code",
   "execution_count": 17,
   "metadata": {},
   "outputs": [
    {
     "data": {
      "text/plain": [
       "<AxesSubplot:xlabel='Time'>"
      ]
     },
     "execution_count": 17,
     "metadata": {},
     "output_type": "execute_result"
    },
    {
     "data": {
      "image/png": "[encoded data removed]",
      "text/plain": [
       "<Figure size 432x288 with 1 Axes>"
      ]
     },
     "metadata": {
      "needs_background": "light"
     },
     "output_type": "display_data"
    }
   ],
   "source": [
    "# distribution of transaction time\n",
    "sns.distplot(creditcardDF['Time'])"
   ]
  },
  {
   "cell_type": "code",
   "execution_count": 19,
   "metadata": {},
   "outputs": [
    {
     "data": {
      "text/plain": [
       "<AxesSubplot:xlabel='Amount'>"
      ]
     },
     "execution_count": 19,
     "metadata": {},
     "output_type": "execute_result"
    },
    {
     "data": {
      "image/png": "[encoded data removed]",
      "text/plain": [
       "<Figure size 432x288 with 1 Axes>"
      ]
     },
     "metadata": {
      "needs_background": "light"
     },
     "output_type": "display_data"
    }
   ],
   "source": [
    "# distribution of transaction amount\n",
    "sns.distplot(creditcardDF['Amount'])"
   ]
  },
  {
   "cell_type": "code",
   "execution_count": 27,
   "metadata": {},
   "outputs": [
    {
     "data": {
      "text/plain": [
       "(array([284315.,    492.]),\n",
       " array([0, 1, 2]),\n",
       " <BarContainer object of 2 artists>)"
      ]
     },
     "execution_count": 27,
     "metadata": {},
     "output_type": "execute_result"
    },
    {
     "data": {
      "image/png": "[encoded data removed]",
      "text/plain": [
       "<Figure size 432x288 with 1 Axes>"
      ]
     },
     "metadata": {
      "needs_background": "light"
     },
     "output_type": "display_data"
    }
   ],
   "source": [
    "# distribution of fraud data\n",
    "plt.hist(creditcardDF['Class'], bins = range(0, 3, 1))"
   ]
  },
  {
   "cell_type": "code",
   "execution_count": null,
   "metadata": {},
   "outputs": [],
   "source": [
    "# By seeing the distributions we can have an idea how skewed are these features"
   ]
  },
  {
   "cell_type": "code",
   "execution_count": null,
   "metadata": {},
   "outputs": [],
   "source": [
    "# Part2: preprocessing data\n",
    "# 1. using log to scale Amount and Time data\n",
    "# 2. split trani and test data"
   ]
  },
  {
   "cell_type": "code",
   "execution_count": 31,
   "metadata": {},
   "outputs": [],
   "source": [
    "# log transforms all amount and time features\n",
    "creditcardDF['Amount'] = np.log(creditcardDF['Amount'] + 1)\n",
    "creditcardDF['Time'] = np.log(creditcardDF['Time'] + 1)"
   ]
  },
  {
   "cell_type": "code",
   "execution_count": 36,
   "metadata": {},
   "outputs": [],
   "source": [
    "# began to split fraud and non-fraud data\n",
    "normal = creditcardDF[creditcardDF['Class'] == 0]\n",
    "anomaly = creditcardDF[creditcardDF['Class'] == 1]"
   ]
  },
  {
   "cell_type": "code",
   "execution_count": 40,
   "metadata": {},
   "outputs": [],
   "source": [
    "# 80% of normals are trainning data, 20% of normals are testing data\n",
    "train, test = train_test_split(normal, test_size=0.2, random_state=0)\n",
    "\n",
    "# Among all testing data, 50% are used for normal validation, 50% normal tesing data\n",
    "normal_valid, normal_test = train_test_split(test, test_size=0.5, random_state=0)\n",
    "\n",
    "# Among all fraud data (492 cases), 50% of fraud used for validation, 50% fraud for testing data\n",
    "anomaly_valid, anomaly_test = train_test_split(anomaly, test_size=0.5, random_state=0)#all anomaly/bad"
   ]
  },
  {
   "cell_type": "code",
   "execution_count": null,
   "metadata": {},
   "outputs": [],
   "source": [
    "# Overall: all traning data are non-fraud, validating/testing data has 50% fraud each."
   ]
  },
  {
   "cell_type": "code",
   "execution_count": 41,
   "metadata": {},
   "outputs": [],
   "source": [
    "validation = pd.concat([normal_valid, anomaly_valid])#include both good and bad\n",
    "test = pd.concat([normal_test, anomaly_test])#include both good and bad"
   ]
  },
  {
   "cell_type": "code",
   "execution_count": 42,
   "metadata": {},
   "outputs": [
    {
     "name": "stdout",
     "output_type": "stream",
     "text": [
      "(28677, 31)\n",
      "(28678, 31)\n",
      "(227452, 30)\n"
     ]
    }
   ],
   "source": [
    "print(validation.shape)\n",
    "print(test.shape)\n",
    "\n",
    "train = train.drop(columns = ['Class']).reset_index(drop= True)#no need of label in train data, drop it\n",
    "print(train.shape)"
   ]
  },
  {
   "cell_type": "code",
   "execution_count": 48,
   "metadata": {},
   "outputs": [],
   "source": [
    "featureNames = list(train.columns.values)#feature names only, no label\n",
    "valFeatures = validation[featureNames].reset_index(drop= True)#feature df only, no label\n",
    "testFeatures = test[featureNames].reset_index(drop= True)#feature df only, no label\n",
    "\n",
    "valLabel = validation['Class']#label df only\n",
    "testLabel = test['Class']#label df only"
   ]
  },
  {
   "cell_type": "code",
   "execution_count": 49,
   "metadata": {},
   "outputs": [
    {
     "data": {
      "text/html": [
       "<div>\n",
       "<style scoped>\n",
       "    .dataframe tbody tr th:only-of-type {\n",
       "        vertical-align: middle;\n",
       "    }\n",
       "\n",
       "    .dataframe tbody tr th {\n",
       "        vertical-align: top;\n",
       "    }\n",
       "\n",
       "    .dataframe thead th {\n",
       "        text-align: right;\n",
       "    }\n",
       "</style>\n",
       "<table border=\"1\" class=\"dataframe\">\n",
       "  <thead>\n",
       "    <tr style=\"text-align: right;\">\n",
       "      <th></th>\n",
       "      <th>Time</th>\n",
       "      <th>V1</th>\n",
       "      <th>V2</th>\n",
       "      <th>V3</th>\n",
       "      <th>V4</th>\n",
       "      <th>V5</th>\n",
       "      <th>V6</th>\n",
       "      <th>V7</th>\n",
       "      <th>V8</th>\n",
       "      <th>V9</th>\n",
       "      <th>...</th>\n",
       "      <th>V20</th>\n",
       "      <th>V21</th>\n",
       "      <th>V22</th>\n",
       "      <th>V23</th>\n",
       "      <th>V24</th>\n",
       "      <th>V25</th>\n",
       "      <th>V26</th>\n",
       "      <th>V27</th>\n",
       "      <th>V28</th>\n",
       "      <th>Amount</th>\n",
       "    </tr>\n",
       "  </thead>\n",
       "  <tbody>\n",
       "    <tr>\n",
       "      <th>0</th>\n",
       "      <td>11.827043</td>\n",
       "      <td>-0.248023</td>\n",
       "      <td>1.259502</td>\n",
       "      <td>-0.993999</td>\n",
       "      <td>-1.587788</td>\n",
       "      <td>1.913462</td>\n",
       "      <td>-0.630270</td>\n",
       "      <td>1.958852</td>\n",
       "      <td>-0.659274</td>\n",
       "      <td>0.002373</td>\n",
       "      <td>...</td>\n",
       "      <td>0.396605</td>\n",
       "      <td>0.089915</td>\n",
       "      <td>0.896611</td>\n",
       "      <td>-0.367547</td>\n",
       "      <td>0.143515</td>\n",
       "      <td>-0.177558</td>\n",
       "      <td>0.025269</td>\n",
       "      <td>0.271419</td>\n",
       "      <td>-0.066416</td>\n",
       "      <td>0.406979</td>\n",
       "    </tr>\n",
       "    <tr>\n",
       "      <th>1</th>\n",
       "      <td>10.809566</td>\n",
       "      <td>-1.614505</td>\n",
       "      <td>-0.970137</td>\n",
       "      <td>1.730517</td>\n",
       "      <td>-1.715497</td>\n",
       "      <td>-0.869271</td>\n",
       "      <td>-0.171355</td>\n",
       "      <td>1.216768</td>\n",
       "      <td>-0.031314</td>\n",
       "      <td>0.992762</td>\n",
       "      <td>...</td>\n",
       "      <td>0.831753</td>\n",
       "      <td>0.408654</td>\n",
       "      <td>0.630537</td>\n",
       "      <td>0.382848</td>\n",
       "      <td>-0.110627</td>\n",
       "      <td>0.906539</td>\n",
       "      <td>-0.618206</td>\n",
       "      <td>-0.026364</td>\n",
       "      <td>0.104561</td>\n",
       "      <td>0.729614</td>\n",
       "    </tr>\n",
       "    <tr>\n",
       "      <th>2</th>\n",
       "      <td>11.340380</td>\n",
       "      <td>1.106176</td>\n",
       "      <td>0.148096</td>\n",
       "      <td>0.424489</td>\n",
       "      <td>1.282916</td>\n",
       "      <td>-0.080275</td>\n",
       "      <td>0.146526</td>\n",
       "      <td>-0.007108</td>\n",
       "      <td>0.114953</td>\n",
       "      <td>-0.004731</td>\n",
       "      <td>...</td>\n",
       "      <td>-0.148073</td>\n",
       "      <td>-0.042488</td>\n",
       "      <td>0.071593</td>\n",
       "      <td>-0.085294</td>\n",
       "      <td>0.032780</td>\n",
       "      <td>0.637894</td>\n",
       "      <td>-0.331179</td>\n",
       "      <td>0.036130</td>\n",
       "      <td>0.007639</td>\n",
       "      <td>0.618090</td>\n",
       "    </tr>\n",
       "    <tr>\n",
       "      <th>3</th>\n",
       "      <td>11.321208</td>\n",
       "      <td>-1.791995</td>\n",
       "      <td>1.102738</td>\n",
       "      <td>0.324217</td>\n",
       "      <td>1.082267</td>\n",
       "      <td>-0.303348</td>\n",
       "      <td>-1.050303</td>\n",
       "      <td>0.066270</td>\n",
       "      <td>0.613586</td>\n",
       "      <td>-0.720545</td>\n",
       "      <td>...</td>\n",
       "      <td>-0.285331</td>\n",
       "      <td>0.151935</td>\n",
       "      <td>0.514245</td>\n",
       "      <td>0.290932</td>\n",
       "      <td>0.403345</td>\n",
       "      <td>-0.064118</td>\n",
       "      <td>-0.318054</td>\n",
       "      <td>0.021940</td>\n",
       "      <td>0.013401</td>\n",
       "      <td>0.648074</td>\n",
       "    </tr>\n",
       "    <tr>\n",
       "      <th>4</th>\n",
       "      <td>11.956784</td>\n",
       "      <td>1.924286</td>\n",
       "      <td>0.324362</td>\n",
       "      <td>-0.734639</td>\n",
       "      <td>3.370481</td>\n",
       "      <td>0.783552</td>\n",
       "      <td>1.224944</td>\n",
       "      <td>-0.298881</td>\n",
       "      <td>0.291717</td>\n",
       "      <td>-0.790152</td>\n",
       "      <td>...</td>\n",
       "      <td>-0.227395</td>\n",
       "      <td>-0.022543</td>\n",
       "      <td>-0.115448</td>\n",
       "      <td>0.143200</td>\n",
       "      <td>-0.357497</td>\n",
       "      <td>-0.109288</td>\n",
       "      <td>-0.105516</td>\n",
       "      <td>-0.025440</td>\n",
       "      <td>-0.050761</td>\n",
       "      <td>0.599513</td>\n",
       "    </tr>\n",
       "  </tbody>\n",
       "</table>\n",
       "<p>5 rows × 30 columns</p>\n",
       "</div>"
      ],
      "text/plain": [
       "        Time        V1        V2        V3        V4        V5        V6  \\\n",
       "0  11.827043 -0.248023  1.259502 -0.993999 -1.587788  1.913462 -0.630270   \n",
       "1  10.809566 -1.614505 -0.970137  1.730517 -1.715497 -0.869271 -0.171355   \n",
       "2  11.340380  1.106176  0.148096  0.424489  1.282916 -0.080275  0.146526   \n",
       "3  11.321208 -1.791995  1.102738  0.324217  1.082267 -0.303348 -1.050303   \n",
       "4  11.956784  1.924286  0.324362 -0.734639  3.370481  0.783552  1.224944   \n",
       "\n",
       "         V7        V8        V9  ...       V20       V21       V22       V23  \\\n",
       "0  1.958852 -0.659274  0.002373  ...  0.396605  0.089915  0.896611 -0.367547   \n",
       "1  1.216768 -0.031314  0.992762  ...  0.831753  0.408654  0.630537  0.382848   \n",
       "2 -0.007108  0.114953 -0.004731  ... -0.148073 -0.042488  0.071593 -0.085294   \n",
       "3  0.066270  0.613586 -0.720545  ... -0.285331  0.151935  0.514245  0.290932   \n",
       "4 -0.298881  0.291717 -0.790152  ... -0.227395 -0.022543 -0.115448  0.143200   \n",
       "\n",
       "        V24       V25       V26       V27       V28    Amount  \n",
       "0  0.143515 -0.177558  0.025269  0.271419 -0.066416  0.406979  \n",
       "1 -0.110627  0.906539 -0.618206 -0.026364  0.104561  0.729614  \n",
       "2  0.032780  0.637894 -0.331179  0.036130  0.007639  0.618090  \n",
       "3  0.403345 -0.064118 -0.318054  0.021940  0.013401  0.648074  \n",
       "4 -0.357497 -0.109288 -0.105516 -0.025440 -0.050761  0.599513  \n",
       "\n",
       "[5 rows x 30 columns]"
      ]
     },
     "execution_count": 49,
     "metadata": {},
     "output_type": "execute_result"
    }
   ],
   "source": [
    "# validation data having only features columns\n",
    "valFeatures.head() "
   ]
  },
  {
   "cell_type": "code",
   "execution_count": 51,
   "metadata": {},
   "outputs": [
    {
     "data": {
      "text/html": [
       "<div>\n",
       "<style scoped>\n",
       "    .dataframe tbody tr th:only-of-type {\n",
       "        vertical-align: middle;\n",
       "    }\n",
       "\n",
       "    .dataframe tbody tr th {\n",
       "        vertical-align: top;\n",
       "    }\n",
       "\n",
       "    .dataframe thead th {\n",
       "        text-align: right;\n",
       "    }\n",
       "</style>\n",
       "<table border=\"1\" class=\"dataframe\">\n",
       "  <thead>\n",
       "    <tr style=\"text-align: right;\">\n",
       "      <th></th>\n",
       "      <th>Time</th>\n",
       "      <th>V1</th>\n",
       "      <th>V2</th>\n",
       "      <th>V3</th>\n",
       "      <th>V4</th>\n",
       "      <th>V5</th>\n",
       "      <th>V6</th>\n",
       "      <th>V7</th>\n",
       "      <th>V8</th>\n",
       "      <th>V9</th>\n",
       "      <th>...</th>\n",
       "      <th>V20</th>\n",
       "      <th>V21</th>\n",
       "      <th>V22</th>\n",
       "      <th>V23</th>\n",
       "      <th>V24</th>\n",
       "      <th>V25</th>\n",
       "      <th>V26</th>\n",
       "      <th>V27</th>\n",
       "      <th>V28</th>\n",
       "      <th>Amount</th>\n",
       "    </tr>\n",
       "  </thead>\n",
       "  <tbody>\n",
       "    <tr>\n",
       "      <th>0</th>\n",
       "      <td>10.754002</td>\n",
       "      <td>1.197337</td>\n",
       "      <td>-0.094470</td>\n",
       "      <td>-0.370282</td>\n",
       "      <td>-0.159653</td>\n",
       "      <td>0.081626</td>\n",
       "      <td>-0.467761</td>\n",
       "      <td>0.261166</td>\n",
       "      <td>-0.174461</td>\n",
       "      <td>-0.289589</td>\n",
       "      <td>...</td>\n",
       "      <td>0.125207</td>\n",
       "      <td>-0.039809</td>\n",
       "      <td>-0.250918</td>\n",
       "      <td>-0.209802</td>\n",
       "      <td>-0.409802</td>\n",
       "      <td>0.500821</td>\n",
       "      <td>1.034294</td>\n",
       "      <td>-0.115533</td>\n",
       "      <td>-0.009900</td>\n",
       "      <td>0.683352</td>\n",
       "    </tr>\n",
       "    <tr>\n",
       "      <th>1</th>\n",
       "      <td>11.885330</td>\n",
       "      <td>-0.191617</td>\n",
       "      <td>0.937803</td>\n",
       "      <td>0.169863</td>\n",
       "      <td>-0.623206</td>\n",
       "      <td>0.262791</td>\n",
       "      <td>-1.187661</td>\n",
       "      <td>0.907601</td>\n",
       "      <td>-0.126031</td>\n",
       "      <td>0.333635</td>\n",
       "      <td>...</td>\n",
       "      <td>0.003997</td>\n",
       "      <td>-0.306218</td>\n",
       "      <td>-0.690425</td>\n",
       "      <td>0.111420</td>\n",
       "      <td>0.001373</td>\n",
       "      <td>-0.476772</td>\n",
       "      <td>0.147261</td>\n",
       "      <td>0.347417</td>\n",
       "      <td>0.153287</td>\n",
       "      <td>0.336847</td>\n",
       "    </tr>\n",
       "    <tr>\n",
       "      <th>2</th>\n",
       "      <td>11.704463</td>\n",
       "      <td>1.863703</td>\n",
       "      <td>0.338429</td>\n",
       "      <td>0.339123</td>\n",
       "      <td>3.882610</td>\n",
       "      <td>-0.280891</td>\n",
       "      <td>0.244318</td>\n",
       "      <td>-0.459143</td>\n",
       "      <td>0.052683</td>\n",
       "      <td>-0.402713</td>\n",
       "      <td>...</td>\n",
       "      <td>-0.221016</td>\n",
       "      <td>0.184672</td>\n",
       "      <td>0.697386</td>\n",
       "      <td>0.177146</td>\n",
       "      <td>0.049079</td>\n",
       "      <td>-0.205933</td>\n",
       "      <td>0.022688</td>\n",
       "      <td>0.022768</td>\n",
       "      <td>-0.028652</td>\n",
       "      <td>0.550407</td>\n",
       "    </tr>\n",
       "    <tr>\n",
       "      <th>3</th>\n",
       "      <td>11.151439</td>\n",
       "      <td>-0.893100</td>\n",
       "      <td>1.314857</td>\n",
       "      <td>1.169805</td>\n",
       "      <td>1.397126</td>\n",
       "      <td>-0.368209</td>\n",
       "      <td>-0.202039</td>\n",
       "      <td>0.185825</td>\n",
       "      <td>0.527681</td>\n",
       "      <td>-0.281365</td>\n",
       "      <td>...</td>\n",
       "      <td>-0.078757</td>\n",
       "      <td>0.029692</td>\n",
       "      <td>0.249239</td>\n",
       "      <td>-0.034148</td>\n",
       "      <td>0.399384</td>\n",
       "      <td>-0.148717</td>\n",
       "      <td>-0.250188</td>\n",
       "      <td>0.169235</td>\n",
       "      <td>0.137246</td>\n",
       "      <td>0.534210</td>\n",
       "    </tr>\n",
       "    <tr>\n",
       "      <th>4</th>\n",
       "      <td>9.271530</td>\n",
       "      <td>-0.732857</td>\n",
       "      <td>0.675073</td>\n",
       "      <td>1.698804</td>\n",
       "      <td>-1.217482</td>\n",
       "      <td>0.121983</td>\n",
       "      <td>-0.547678</td>\n",
       "      <td>0.417747</td>\n",
       "      <td>0.046242</td>\n",
       "      <td>1.047147</td>\n",
       "      <td>...</td>\n",
       "      <td>0.080186</td>\n",
       "      <td>-0.182529</td>\n",
       "      <td>-0.338531</td>\n",
       "      <td>-0.042062</td>\n",
       "      <td>-0.035442</td>\n",
       "      <td>-0.341831</td>\n",
       "      <td>0.683327</td>\n",
       "      <td>0.215166</td>\n",
       "      <td>0.157955</td>\n",
       "      <td>0.639539</td>\n",
       "    </tr>\n",
       "  </tbody>\n",
       "</table>\n",
       "<p>5 rows × 30 columns</p>\n",
       "</div>"
      ],
      "text/plain": [
       "        Time        V1        V2        V3        V4        V5        V6  \\\n",
       "0  10.754002  1.197337 -0.094470 -0.370282 -0.159653  0.081626 -0.467761   \n",
       "1  11.885330 -0.191617  0.937803  0.169863 -0.623206  0.262791 -1.187661   \n",
       "2  11.704463  1.863703  0.338429  0.339123  3.882610 -0.280891  0.244318   \n",
       "3  11.151439 -0.893100  1.314857  1.169805  1.397126 -0.368209 -0.202039   \n",
       "4   9.271530 -0.732857  0.675073  1.698804 -1.217482  0.121983 -0.547678   \n",
       "\n",
       "         V7        V8        V9  ...       V20       V21       V22       V23  \\\n",
       "0  0.261166 -0.174461 -0.289589  ...  0.125207 -0.039809 -0.250918 -0.209802   \n",
       "1  0.907601 -0.126031  0.333635  ...  0.003997 -0.306218 -0.690425  0.111420   \n",
       "2 -0.459143  0.052683 -0.402713  ... -0.221016  0.184672  0.697386  0.177146   \n",
       "3  0.185825  0.527681 -0.281365  ... -0.078757  0.029692  0.249239 -0.034148   \n",
       "4  0.417747  0.046242  1.047147  ...  0.080186 -0.182529 -0.338531 -0.042062   \n",
       "\n",
       "        V24       V25       V26       V27       V28    Amount  \n",
       "0 -0.409802  0.500821  1.034294 -0.115533 -0.009900  0.683352  \n",
       "1  0.001373 -0.476772  0.147261  0.347417  0.153287  0.336847  \n",
       "2  0.049079 -0.205933  0.022688  0.022768 -0.028652  0.550407  \n",
       "3  0.399384 -0.148717 -0.250188  0.169235  0.137246  0.534210  \n",
       "4 -0.035442 -0.341831  0.683327  0.215166  0.157955  0.639539  \n",
       "\n",
       "[5 rows x 30 columns]"
      ]
     },
     "execution_count": 51,
     "metadata": {},
     "output_type": "execute_result"
    }
   ],
   "source": [
    "# testing data having only features columns\n",
    "testFeatures.head()"
   ]
  },
  {
   "cell_type": "code",
   "execution_count": 53,
   "metadata": {},
   "outputs": [
    {
     "data": {
      "text/plain": [
       "0    28431\n",
       "1      246\n",
       "Name: Class, dtype: int64"
      ]
     },
     "execution_count": 53,
     "metadata": {},
     "output_type": "execute_result"
    }
   ],
   "source": [
    "validation['Class'].value_counts()"
   ]
  },
  {
   "cell_type": "code",
   "execution_count": 52,
   "metadata": {},
   "outputs": [
    {
     "data": {
      "text/plain": [
       "0    28432\n",
       "1      246\n",
       "Name: Class, dtype: int64"
      ]
     },
     "execution_count": 52,
     "metadata": {},
     "output_type": "execute_result"
    }
   ],
   "source": [
    "test['Class'].value_counts()"
   ]
  },
  {
   "cell_type": "code",
   "execution_count": 54,
   "metadata": {},
   "outputs": [
    {
     "data": {
      "image/png": "[encoded data removed]",
      "text/plain": [
       "<Figure size 432x288 with 1 Axes>"
      ]
     },
     "metadata": {
      "needs_background": "light"
     },
     "output_type": "display_data"
    }
   ],
   "source": [
    "plt.figure()\n",
    "plt.title(\"train data of V1 and V2\")#may contain outliers\n",
    "plt.xlabel(\"V1\")\n",
    "plt.ylabel(\"V2\")\n",
    "plt.plot(train.iloc[:, 1],train.iloc[:,2],\"bx\") # all rows, v1; all rows, v2\n",
    "plt.show()"
   ]
  },
  {
   "cell_type": "code",
   "execution_count": 55,
   "metadata": {},
   "outputs": [
    {
     "data": {
      "image/png": "[encoded data removed]",
      "text/plain": [
       "<Figure size 432x288 with 1 Axes>"
      ]
     },
     "metadata": {
      "needs_background": "light"
     },
     "output_type": "display_data"
    }
   ],
   "source": [
    "plt.figure()\n",
    "plt.title(\"validation data of V1 and V2\")\n",
    "plt.xlabel(\"V1\")\n",
    "plt.ylabel(\"V2\")\n",
    "plt.plot(validation.iloc[:, 1],validation.iloc[:,2],\"bx\")\n",
    "plt.show()"
   ]
  },
  {
   "cell_type": "code",
   "execution_count": 56,
   "metadata": {},
   "outputs": [
    {
     "data": {
      "image/png": "[encoded data removed]",
      "text/plain": [
       "<Figure size 432x288 with 1 Axes>"
      ]
     },
     "metadata": {
      "needs_background": "light"
     },
     "output_type": "display_data"
    }
   ],
   "source": [
    "plt.figure()\n",
    "plt.title(\"test data of V1 and V2\")\n",
    "plt.xlabel(\"V1\")\n",
    "plt.ylabel(\"V2\")\n",
    "plt.plot(test.iloc[:, 1],test.iloc[:,2],\"bx\")\n",
    "plt.show()"
   ]
  },
  {
   "cell_type": "code",
   "execution_count": null,
   "metadata": {},
   "outputs": [],
   "source": [
    "# What I am going to do is based on the training data, estimate mean and variance and build a p(x) function,\n",
    "# For validation set, I use different episilons as threshold values"
   ]
  },
  {
   "cell_type": "code",
   "execution_count": 57,
   "metadata": {},
   "outputs": [],
   "source": [
    "#find parameter for each col/feature in df for the Gaussian distribution\n",
    "def estimateGaussian(dataset):\n",
    "    mu = np.mean(dataset, axis=0)\n",
    "    sigma = np.cov(dataset.T)\n",
    "    return mu, sigma"
   ]
  },
  {
   "cell_type": "code",
   "execution_count": 58,
   "metadata": {},
   "outputs": [],
   "source": [
    "#step 1: model training\n",
    "mu, sigma = estimateGaussian(train)\n",
    "\n",
    "#generate The probability density function/curve/surface/model for multivariate_normal given mean and cov \n",
    "model = multivariate_normal(mean=mu, cov=sigma, allow_singular = True)#surface hat"
   ]
  },
  {
   "cell_type": "code",
   "execution_count": 59,
   "metadata": {},
   "outputs": [
    {
     "name": "stdout",
     "output_type": "stream",
     "text": [
      "4.806105409916265e-11\n",
      "0.0\n",
      "-23.758548952877756\n",
      "-7557.9486504418865\n"
     ]
    }
   ],
   "source": [
    "pdfVal = model.pdf(valFeatures)\n",
    "print(max(pdfVal))#too small, can not differentiate\n",
    "print(min(pdfVal))\n",
    "\n",
    "p_val = model.logpdf(valFeatures)#Log of the pdf first, then apply to features, to change the magnitude of prob\n",
    "print(max(p_val))#\n",
    "print(min(p_val))"
   ]
  },
  {
   "cell_type": "code",
   "execution_count": 60,
   "metadata": {},
   "outputs": [
    {
     "name": "stdout",
     "output_type": "stream",
     "text": [
      "(227452,)\n",
      "(28677,)\n",
      "[-28.57944914 -41.34982857 -30.59432922 ... -28.32018916 -33.36981832\n",
      " -35.87051495]\n"
     ]
    }
   ],
   "source": [
    "p = model.logpdf(train)\n",
    "print(p.shape)\n",
    "print((p_val.shape))\n",
    "\n",
    "print(p)"
   ]
  },
  {
   "cell_type": "code",
   "execution_count": 61,
   "metadata": {},
   "outputs": [
    {
     "name": "stdout",
     "output_type": "stream",
     "text": [
      "[  -28.87505368   -32.07872261   -25.43112649 ... -5173.15880367\n",
      " -4542.34000189   -27.55397213]\n",
      "[False False False ...  True  True False]\n"
     ]
    }
   ],
   "source": [
    "print(p_val)\n",
    "print(p_val < -500)"
   ]
  },
  {
   "cell_type": "code",
   "execution_count": 64,
   "metadata": {},
   "outputs": [
    {
     "name": "stdout",
     "output_type": "stream",
     "text": [
      "(200, 3)\n"
     ]
    }
   ],
   "source": [
    "scores = []\n",
    "p_val = model.logpdf(valFeatures)#Log of the pdf\n",
    "\n",
    "# thresholds = np.linspace(-1000, -10,150)\n",
    "thresholds = np.linspace(min(p_val), max(p_val),200)#generate all candidate threshold, epsilon\n",
    "\n",
    "#step 2: CV to find optimal threshold: bestThreshold\n",
    "for threshold in thresholds:\n",
    "    y_pred = (p_val < threshold).astype(int)# list of 0 and 1\n",
    "  #calculate recall, precision and f1 for each (truth, pred) pair, corresponding to that threshold\n",
    "    scores.append([recall_score(valLabel, y_pred),\n",
    "                 precision_score(valLabel, y_pred),\n",
    "                 f1_score(valLabel, y_pred, average = \"binary\")])\n",
    "\n",
    "scores = np.array(scores)\n",
    "maxIndex = scores[...,2].ravel().argmax()#maxIndex of the column 2(f1_score) #193\n",
    "bestThreshold = thresholds[maxIndex]\n",
    "print(scores.shape)#each row is a pair of (recall, precision, f1) corresponding to a threshold"
   ]
  },
  {
   "cell_type": "code",
   "execution_count": 65,
   "metadata": {},
   "outputs": [
    {
     "name": "stdout",
     "output_type": "stream",
     "text": [
      "[[0.         0.         0.        ]\n",
      " [0.00406504 1.         0.00809717]\n",
      " [0.00406504 1.         0.00809717]\n",
      " [0.00406504 1.         0.00809717]\n",
      " [0.00406504 1.         0.00809717]\n",
      " [0.00406504 1.         0.00809717]\n",
      " [0.00406504 1.         0.00809717]\n",
      " [0.00406504 1.         0.00809717]\n",
      " [0.00406504 1.         0.00809717]\n",
      " [0.00406504 1.         0.00809717]\n",
      " [0.00406504 1.         0.00809717]\n",
      " [0.00406504 1.         0.00809717]\n",
      " [0.00406504 1.         0.00809717]\n",
      " [0.00406504 1.         0.00809717]\n",
      " [0.00406504 1.         0.00809717]\n",
      " [0.00406504 1.         0.00809717]\n",
      " [0.00406504 1.         0.00809717]\n",
      " [0.00406504 1.         0.00809717]\n",
      " [0.00406504 1.         0.00809717]\n",
      " [0.00406504 1.         0.00809717]\n",
      " [0.00406504 1.         0.00809717]\n",
      " [0.00406504 1.         0.00809717]\n",
      " [0.00406504 1.         0.00809717]\n",
      " [0.00813008 1.         0.01612903]\n",
      " [0.00813008 1.         0.01612903]\n",
      " [0.00813008 1.         0.01612903]\n",
      " [0.00813008 1.         0.01612903]\n",
      " [0.00813008 1.         0.01612903]\n",
      " [0.00813008 1.         0.01612903]\n",
      " [0.00813008 1.         0.01612903]\n",
      " [0.00813008 1.         0.01612903]\n",
      " [0.00813008 1.         0.01612903]\n",
      " [0.00813008 1.         0.01612903]\n",
      " [0.00813008 1.         0.01612903]\n",
      " [0.00813008 1.         0.01612903]\n",
      " [0.01219512 1.         0.02409639]\n",
      " [0.01219512 1.         0.02409639]\n",
      " [0.01219512 1.         0.02409639]\n",
      " [0.01219512 1.         0.02409639]\n",
      " [0.01219512 1.         0.02409639]\n",
      " [0.01219512 1.         0.02409639]\n",
      " [0.01626016 1.         0.032     ]\n",
      " [0.01626016 1.         0.032     ]\n",
      " [0.01626016 1.         0.032     ]\n",
      " [0.01626016 1.         0.032     ]\n",
      " [0.01626016 1.         0.032     ]\n",
      " [0.01626016 1.         0.032     ]\n",
      " [0.01626016 1.         0.032     ]\n",
      " [0.01626016 1.         0.032     ]\n",
      " [0.01626016 1.         0.032     ]\n",
      " [0.0203252  1.         0.03984064]\n",
      " [0.0203252  1.         0.03984064]\n",
      " [0.0203252  1.         0.03984064]\n",
      " [0.0203252  1.         0.03984064]\n",
      " [0.0203252  1.         0.03984064]\n",
      " [0.0203252  1.         0.03984064]\n",
      " [0.02439024 1.         0.04761905]\n",
      " [0.02439024 1.         0.04761905]\n",
      " [0.03658537 1.         0.07058824]\n",
      " [0.04471545 1.         0.08560311]\n",
      " [0.04471545 1.         0.08560311]\n",
      " [0.04471545 1.         0.08560311]\n",
      " [0.05284553 1.         0.1003861 ]\n",
      " [0.08943089 1.         0.1641791 ]\n",
      " [0.12195122 1.         0.2173913 ]\n",
      " [0.1300813  1.         0.23021583]\n",
      " [0.1300813  1.         0.23021583]\n",
      " [0.1300813  1.         0.23021583]\n",
      " [0.1300813  1.         0.23021583]\n",
      " [0.1300813  1.         0.23021583]\n",
      " [0.1300813  1.         0.23021583]\n",
      " [0.1300813  1.         0.23021583]\n",
      " [0.1300813  1.         0.23021583]\n",
      " [0.1300813  1.         0.23021583]\n",
      " [0.1300813  1.         0.23021583]\n",
      " [0.1300813  1.         0.23021583]\n",
      " [0.1300813  1.         0.23021583]\n",
      " [0.1300813  1.         0.23021583]\n",
      " [0.1300813  1.         0.23021583]\n",
      " [0.13414634 1.         0.23655914]\n",
      " [0.15853659 1.         0.27368421]\n",
      " [0.17479675 1.         0.29757785]\n",
      " [0.17479675 1.         0.29757785]\n",
      " [0.17479675 1.         0.29757785]\n",
      " [0.17479675 1.         0.29757785]\n",
      " [0.17479675 1.         0.29757785]\n",
      " [0.17479675 1.         0.29757785]\n",
      " [0.17479675 1.         0.29757785]\n",
      " [0.17479675 1.         0.29757785]\n",
      " [0.17479675 1.         0.29757785]\n",
      " [0.17479675 1.         0.29757785]\n",
      " [0.17479675 1.         0.29757785]\n",
      " [0.17479675 1.         0.29757785]\n",
      " [0.17479675 1.         0.29757785]\n",
      " [0.17479675 1.         0.29757785]\n",
      " [0.17479675 1.         0.29757785]\n",
      " [0.17479675 1.         0.29757785]\n",
      " [0.17886179 1.         0.30344828]\n",
      " [0.18292683 1.         0.30927835]\n",
      " [0.18699187 1.         0.31506849]\n",
      " [0.18699187 1.         0.31506849]\n",
      " [0.19105691 1.         0.32081911]\n",
      " [0.19918699 1.         0.33220339]\n",
      " [0.20325203 1.         0.33783784]\n",
      " [0.20731707 1.         0.34343434]\n",
      " [0.21544715 1.         0.35451505]\n",
      " [0.21544715 1.         0.35451505]\n",
      " [0.21544715 1.         0.35451505]\n",
      " [0.21544715 1.         0.35451505]\n",
      " [0.21544715 1.         0.35451505]\n",
      " [0.21544715 1.         0.35451505]\n",
      " [0.21544715 1.         0.35451505]\n",
      " [0.21544715 1.         0.35451505]\n",
      " [0.21544715 1.         0.35451505]\n",
      " [0.21544715 1.         0.35451505]\n",
      " [0.21544715 1.         0.35451505]\n",
      " [0.21544715 1.         0.35451505]\n",
      " [0.21544715 1.         0.35451505]\n",
      " [0.21544715 1.         0.35451505]\n",
      " [0.21544715 1.         0.35451505]\n",
      " [0.21544715 1.         0.35451505]\n",
      " [0.21544715 1.         0.35451505]\n",
      " [0.21544715 1.         0.35451505]\n",
      " [0.22764228 1.         0.37086093]\n",
      " [0.22764228 1.         0.37086093]\n",
      " [0.22764228 1.         0.37086093]\n",
      " [0.22764228 1.         0.37086093]\n",
      " [0.22764228 1.         0.37086093]\n",
      " [0.22764228 1.         0.37086093]\n",
      " [0.22764228 1.         0.37086093]\n",
      " [0.22764228 1.         0.37086093]\n",
      " [0.22764228 1.         0.37086093]\n",
      " [0.22764228 1.         0.37086093]\n",
      " [0.22764228 1.         0.37086093]\n",
      " [0.22764228 1.         0.37086093]\n",
      " [0.22764228 1.         0.37086093]\n",
      " [0.22764228 1.         0.37086093]\n",
      " [0.22764228 1.         0.37086093]\n",
      " [0.22764228 1.         0.37086093]\n",
      " [0.22764228 1.         0.37086093]\n",
      " [0.22764228 1.         0.37086093]\n",
      " [0.22764228 1.         0.37086093]\n",
      " [0.22764228 1.         0.37086093]\n",
      " [0.22764228 1.         0.37086093]\n",
      " [0.22764228 1.         0.37086093]\n",
      " [0.25203252 1.         0.4025974 ]\n",
      " [0.27642276 1.         0.43312102]\n",
      " [0.27642276 1.         0.43312102]\n",
      " [0.27642276 1.         0.43312102]\n",
      " [0.27642276 1.         0.43312102]\n",
      " [0.27642276 1.         0.43312102]\n",
      " [0.28861789 1.         0.44794953]\n",
      " [0.28861789 0.98611111 0.44654088]\n",
      " [0.28861789 0.98611111 0.44654088]\n",
      " [0.29268293 0.96       0.44859813]\n",
      " [0.31300813 0.95061728 0.47094801]\n",
      " [0.31300813 0.93902439 0.4695122 ]\n",
      " [0.31300813 0.93902439 0.4695122 ]\n",
      " [0.31300813 0.93902439 0.4695122 ]\n",
      " [0.31300813 0.93902439 0.4695122 ]\n",
      " [0.31300813 0.93902439 0.4695122 ]\n",
      " [0.31300813 0.93902439 0.4695122 ]\n",
      " [0.31707317 0.93975904 0.47416413]\n",
      " [0.33333333 0.94252874 0.49249249]\n",
      " [0.33739837 0.94318182 0.49700599]\n",
      " [0.33739837 0.94318182 0.49700599]\n",
      " [0.3495935  0.93478261 0.50887574]\n",
      " [0.3495935  0.93478261 0.50887574]\n",
      " [0.3495935  0.93478261 0.50887574]\n",
      " [0.35365854 0.93548387 0.51327434]\n",
      " [0.37804878 0.93939394 0.53913043]\n",
      " [0.37804878 0.93939394 0.53913043]\n",
      " [0.37804878 0.93939394 0.53913043]\n",
      " [0.37804878 0.93939394 0.53913043]\n",
      " [0.37804878 0.93939394 0.53913043]\n",
      " [0.3902439  0.94117647 0.55172414]\n",
      " [0.41869919 0.94495413 0.58028169]\n",
      " [0.44308943 0.92372881 0.5989011 ]\n",
      " [0.44715447 0.92436975 0.60273973]\n",
      " [0.44715447 0.90163934 0.59782609]\n",
      " [0.44715447 0.88709677 0.59459459]\n",
      " [0.46747967 0.8778626  0.61007958]\n",
      " [0.50406504 0.87943262 0.64082687]\n",
      " [0.51219512 0.86896552 0.64450128]\n",
      " [0.52439024 0.84313725 0.64661654]\n",
      " [0.52439024 0.83766234 0.645     ]\n",
      " [0.53658537 0.84076433 0.65508685]\n",
      " [0.54878049 0.82317073 0.65853659]\n",
      " [0.55691057 0.82035928 0.66343826]\n",
      " [0.58130081 0.8125     0.67772512]\n",
      " [0.61788618 0.7755102  0.68778281]\n",
      " [0.72357724 0.75744681 0.74012474]\n",
      " [0.72764228 0.73662551 0.73210634]\n",
      " [0.78861789 0.71062271 0.74759152]\n",
      " [0.78861789 0.62783172 0.6990991 ]\n",
      " [0.80894309 0.57183908 0.67003367]\n",
      " [0.82113821 0.44988864 0.58129496]\n",
      " [0.84146341 0.34271523 0.48705882]\n",
      " [0.85365854 0.19195612 0.31343284]\n",
      " [1.         0.0085786  0.01701127]]\n"
     ]
    }
   ],
   "source": [
    "print(scores)"
   ]
  },
  {
   "cell_type": "code",
   "execution_count": 66,
   "metadata": {},
   "outputs": [
    {
     "name": "stdout",
     "output_type": "stream",
     "text": [
      "193\n",
      "-250.92005955053628\n"
     ]
    }
   ],
   "source": [
    "print(maxIndex)\n",
    "print(bestThreshold)"
   ]
  },
  {
   "cell_type": "code",
   "execution_count": 67,
   "metadata": {},
   "outputs": [
    {
     "data": {
      "text/plain": [
       "0.00524675542006222"
      ]
     },
     "execution_count": 67,
     "metadata": {},
     "output_type": "execute_result"
    }
   ],
   "source": [
    "np.mean(train.iloc[:,1])"
   ]
  },
  {
   "cell_type": "code",
   "execution_count": 68,
   "metadata": {},
   "outputs": [
    {
     "data": {
      "text/plain": [
       "0.005246755420062154"
      ]
     },
     "execution_count": 68,
     "metadata": {},
     "output_type": "execute_result"
    }
   ],
   "source": [
    "mu[1]"
   ]
  },
  {
   "cell_type": "code",
   "execution_count": 69,
   "metadata": {},
   "outputs": [
    {
     "name": "stdout",
     "output_type": "stream",
     "text": [
      "Time      11.252384\n",
      "V1         0.005247\n",
      "V2        -0.005416\n",
      "V3         0.010293\n",
      "V4        -0.008144\n",
      "V5         0.004281\n",
      "V6         0.001813\n",
      "V7         0.010354\n",
      "V8        -0.001103\n",
      "V9         0.006351\n",
      "V10        0.009573\n",
      "V11       -0.007736\n",
      "V12        0.009943\n",
      "V13        0.001084\n",
      "V14        0.010816\n",
      "V15        0.001082\n",
      "V16        0.007216\n",
      "V17        0.012364\n",
      "V18        0.003412\n",
      "V19       -0.001811\n",
      "V20       -0.001092\n",
      "V21       -0.001302\n",
      "V22       -0.000354\n",
      "V23        0.000209\n",
      "V24        0.000288\n",
      "V25        0.000375\n",
      "V26        0.000457\n",
      "V27       -0.000509\n",
      "V28       -0.000119\n",
      "Amount     0.592812\n",
      "dtype: float64\n"
     ]
    }
   ],
   "source": [
    "print(mu)\n",
    "# print(sigma)"
   ]
  },
  {
   "cell_type": "code",
   "execution_count": 70,
   "metadata": {},
   "outputs": [
    {
     "data": {
      "text/plain": [
       "0.7430830039525692"
      ]
     },
     "execution_count": 70,
     "metadata": {},
     "output_type": "execute_result"
    }
   ],
   "source": [
    "#performance on test data\n",
    "#step 3: prediction on test data\n",
    "y_test_pred_raw = model.logpdf(testFeatures)\n",
    "y_pred_test = y_test_pred_raw < bestThreshold\n",
    "\n",
    "f1_score(testLabel, y_pred_test, average = \"binary\")"
   ]
  },
  {
   "cell_type": "code",
   "execution_count": 71,
   "metadata": {},
   "outputs": [
    {
     "data": {
      "text/plain": [
       "array([False, False, False, ...,  True, False,  True])"
      ]
     },
     "execution_count": 71,
     "metadata": {},
     "output_type": "execute_result"
    }
   ],
   "source": [
    "y_pred_test"
   ]
  },
  {
   "cell_type": "code",
   "execution_count": 72,
   "metadata": {},
   "outputs": [
    {
     "data": {
      "text/plain": [
       "260"
      ]
     },
     "execution_count": 72,
     "metadata": {},
     "output_type": "execute_result"
    }
   ],
   "source": [
    "predoutliersTest = np.asarray(np.where(y_pred_test))\n",
    "\n",
    "len(predoutliersTest[0])"
   ]
  },
  {
   "cell_type": "code",
   "execution_count": 73,
   "metadata": {},
   "outputs": [
    {
     "data": {
      "text/plain": [
       "array([[  248,   437,   605,  1007,  1353,  1451,  1462,  1546,  1988,\n",
       "         2461,  3674,  3928,  4216,  4928,  5144,  5846,  5975,  6022,\n",
       "         6682,  6706,  6858,  7017,  7138,  8452,  8611,  8677,  8936,\n",
       "         8996,  9207,  9443,  9807,  9988, 10263, 10391, 10657, 11224,\n",
       "        12205, 13539, 13935, 14050, 14573, 14579, 14869, 15740, 16061,\n",
       "        16888, 17322, 17663, 19352, 19902, 20680, 20800, 21748, 22366,\n",
       "        22552, 22859, 23217, 23456, 23742, 24639, 24819, 25654, 25678,\n",
       "        26035, 27282, 27293, 27314, 27587, 27723, 28117, 28178, 28396,\n",
       "        28432, 28433, 28434, 28435, 28436, 28437, 28438, 28440, 28443,\n",
       "        28444, 28445, 28446, 28447, 28449, 28450, 28453, 28454, 28455,\n",
       "        28456, 28457, 28458, 28459, 28460, 28461, 28462, 28463, 28464,\n",
       "        28465, 28466, 28467, 28468, 28469, 28470, 28471, 28472, 28473,\n",
       "        28475, 28479, 28480, 28481, 28482, 28483, 28484, 28486, 28487,\n",
       "        28490, 28492, 28493, 28494, 28496, 28497, 28498, 28499, 28500,\n",
       "        28501, 28502, 28503, 28505, 28506, 28507, 28508, 28510, 28511,\n",
       "        28512, 28513, 28517, 28521, 28523, 28525, 28526, 28527, 28528,\n",
       "        28529, 28530, 28531, 28532, 28536, 28538, 28539, 28540, 28542,\n",
       "        28543, 28544, 28546, 28547, 28549, 28550, 28551, 28552, 28553,\n",
       "        28554, 28555, 28556, 28558, 28559, 28560, 28561, 28562, 28564,\n",
       "        28565, 28566, 28567, 28568, 28570, 28572, 28574, 28575, 28576,\n",
       "        28577, 28578, 28579, 28580, 28581, 28583, 28584, 28585, 28586,\n",
       "        28588, 28589, 28591, 28592, 28594, 28596, 28598, 28599, 28600,\n",
       "        28601, 28602, 28603, 28604, 28605, 28606, 28607, 28609, 28610,\n",
       "        28612, 28615, 28617, 28618, 28619, 28620, 28621, 28622, 28623,\n",
       "        28625, 28626, 28628, 28629, 28630, 28631, 28632, 28633, 28636,\n",
       "        28637, 28638, 28639, 28640, 28641, 28642, 28643, 28645, 28646,\n",
       "        28647, 28648, 28649, 28650, 28651, 28652, 28653, 28654, 28656,\n",
       "        28657, 28658, 28659, 28660, 28661, 28662, 28663, 28664, 28666,\n",
       "        28669, 28670, 28671, 28672, 28673, 28674, 28675, 28677]])"
      ]
     },
     "execution_count": 73,
     "metadata": {},
     "output_type": "execute_result"
    }
   ],
   "source": [
    "predoutliersTest"
   ]
  },
  {
   "cell_type": "code",
   "execution_count": 74,
   "metadata": {},
   "outputs": [
    {
     "data": {
      "image/png": "[encoded data removed]",
      "text/plain": [
       "<Figure size 432x288 with 1 Axes>"
      ]
     },
     "metadata": {
      "needs_background": "light"
     },
     "output_type": "display_data"
    }
   ],
   "source": [
    "#outliers identified on test data feature column V1 V2\n",
    "plt.figure()\n",
    "plt.title(\"test_data with outlier flaged red\")\n",
    "plt.xlabel(\"V1\")\n",
    "plt.ylabel(\"V2\")\n",
    "plt.plot(testFeatures.iloc[:, 1],testFeatures.iloc[:,2],\"bx\")#plot v1 v2 as blue cross\n",
    "plt.plot(testFeatures.iloc[predoutliersTest[0],0],testFeatures.iloc[predoutliersTest[0],1],\"ro\")#re-plot the outliers as red dots\n",
    "plt.show()"
   ]
  },
  {
   "cell_type": "code",
   "execution_count": 75,
   "metadata": {},
   "outputs": [
    {
     "data": {
      "image/png": "[encoded data removed]",
      "text/plain": [
       "<Figure size 432x288 with 1 Axes>"
      ]
     },
     "metadata": {
      "needs_background": "light"
     },
     "output_type": "display_data"
    }
   ],
   "source": [
    "#outliers identified on test data feature column V2 V3\n",
    "plt.figure()\n",
    "plt.title(\"test_data with outlier flaged red\")\n",
    "plt.xlabel(\"V2\")\n",
    "plt.ylabel(\"V3\")\n",
    "plt.plot(testFeatures.iloc[:, 2],testFeatures.iloc[:,3],\"bx\")\n",
    "plt.plot(testFeatures.iloc[predoutliersTest[0],0],testFeatures.iloc[predoutliersTest[0],1],\"ro\")\n",
    "plt.show()"
   ]
  },
  {
   "cell_type": "code",
   "execution_count": 76,
   "metadata": {},
   "outputs": [
    {
     "name": "stdout",
     "output_type": "stream",
     "text": [
      "accuracy_score is: : 0.9954669084315503\n",
      "roc_auc_score is: : 0.039756532202350724\n",
      "f1_score is: : 0.7430830039525692\n",
      "confusion_matrix is: \n",
      "        pred_0  pred_1\n",
      "true_0   28360      72\n",
      "true_1      58     188\n",
      "recall = 0.7642276422764228\n",
      "precision = 0.7230769230769231\n"
     ]
    }
   ],
   "source": [
    "# generate evaluation metrics\n",
    "print(\"%s: %r\" % (\"accuracy_score is: \", accuracy_score(testLabel, y_pred_test)))\n",
    "print(\"%s: %r\" % (\"roc_auc_score is: \", roc_auc_score(testLabel, y_test_pred_raw)))\n",
    "print(\"%s: %r\" % (\"f1_score is: \", f1_score(testLabel, y_pred_test )))#string to int\n",
    "\n",
    "print (\"confusion_matrix is: \")\n",
    "cm = confusion_matrix(testLabel, y_pred_test)\n",
    "cmDF = pd.DataFrame(cm, columns=['pred_0', 'pred_1'], index=['true_0', 'true_1'])\n",
    "print(cmDF)\n",
    "print('recall =',float(cm[1,1])/(cm[1,0]+cm[1,1]))\n",
    "print('precision =', float(cm[1,1])/(cm[1,1] + cm[0,1]))#1.0"
   ]
  }
 ],
 "metadata": {
  "kernelspec": {
   "display_name": "Python 3",
   "language": "python",
   "name": "python3"
  },
  "language_info": {
   "codemirror_mode": {
    "name": "ipython",
    "version": 3
   },
   "file_extension": ".py",
   "mimetype": "text/x-python",
   "name": "python",
   "nbconvert_exporter": "python",
   "pygments_lexer": "ipython3",
   "version": "3.8.1"
  }
 },
 "nbformat": 4,
 "nbformat_minor": 4
}
